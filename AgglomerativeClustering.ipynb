{
 "cells": [
  {
   "cell_type": "code",
   "execution_count": 78,
   "metadata": {
    "collapsed": false
   },
   "outputs": [],
   "source": [
    "import pandas as pd\n",
    "import numpy as np\n",
    "\n",
    "# Disable warnings from being printed\n",
    "from warnings import filterwarnings\n",
    "filterwarnings('ignore')\n",
    "\n",
    "from sys import maxsize\n",
    "\n",
    "from scipy.spatial.distance import pdist, squareform, euclidean"
   ]
  },
  {
   "cell_type": "code",
   "execution_count": 79,
   "metadata": {
    "collapsed": false
   },
   "outputs": [],
   "source": [
    "# Read the data\n",
    "data = pd.read_csv(\"seeds_dataset.txt\", sep=r\"\\s*\", header=None)\n",
    "\n",
    "# Given labels (natural clusters in data)\n",
    "cluster_numbers = data.loc[:, 7].copy()\n",
    "cluster_numbers_predicted = data.loc[:, 7].copy()\n",
    "natural_clusters = cluster_numbers.unique().shape[0]\n",
    "\n",
    "# Get attributes\n",
    "data = data.loc[:, 1:6]\n",
    "\n",
    "# Total number of points\n",
    "n = data.shape[0]\n",
    "\n",
    "# Total clusters formed in the end\n",
    "total_clusters = 2*n - 1\n",
    "\n",
    "# A hash of current unmerged clusters\n",
    "current_clusters = np.array([1]*n + [0]*(n-1))\n",
    "\n",
    "# A grid of distances between each pair of clusters\n",
    "dist_grid = np.zeros((total_clusters, total_clusters))\n",
    "initial_grid = squareform(pdist(data, 'euclidean'))\n",
    "for i in range(n):\n",
    "    for j in range(n):\n",
    "        dist_grid[i][j] = initial_grid[i][j]\n",
    "        \n",
    "# To track all points in a cluster\n",
    "cluster_points = []\n",
    "for i in range(n):\n",
    "    cluster_points.append((i, ))"
   ]
  },
  {
   "cell_type": "code",
   "execution_count": 80,
   "metadata": {
    "collapsed": false
   },
   "outputs": [],
   "source": [
    "# Total n-1 iterations\n",
    "for i in range(n - 1):\n",
    "               \n",
    "    # Find minimum distance clusters\n",
    "    mindist = maxsize\n",
    "    minj = 0\n",
    "    mink = 0\n",
    "    for j in range(n + i):\n",
    "        if current_clusters[j] == 0:\n",
    "            continue\n",
    "        for k in range(j + 1, n + i):\n",
    "            if current_clusters[k] == 0:\n",
    "                continue\n",
    "            if mindist > dist_grid[j][k]:\n",
    "                mindist = dist_grid[j][k]\n",
    "                minj = j\n",
    "                mink = k\n",
    "               \n",
    "    # Merge clusters\n",
    "    cluster_points.append(cluster_points[minj] + cluster_points[mink])\n",
    "    current_clusters[minj] = current_clusters[mink] = 0\n",
    "    current_clusters[n + i] = 1\n",
    "               \n",
    "    # Update distances from other clusters\n",
    "    centre = data.iloc[list(cluster_points[n + i])].mean().values\n",
    "    for j in range(n + i):\n",
    "        temp_centre = data.iloc[list(cluster_points[j])].mean().values\n",
    "        dist_grid[n + i][j] = dist_grid[j][n + i] = np.linalg.norm(centre - temp_centre)\n",
    "        \n",
    "    # When current number of clusters equal natural clusters in data,\n",
    "    # save the cluster for each point. This is used for calculating accuracy.\n",
    "    if n - i + 1 == natural_clusters:\n",
    "        for j in range(natural_clusters):\n",
    "            for point in cluster_points[n + i - j]:\n",
    "                cluster_numbers_predicted[point] = natural_clusters - j"
   ]
  },
  {
   "cell_type": "code",
   "execution_count": 81,
   "metadata": {
    "collapsed": false
   },
   "outputs": [],
   "source": [
    "# Map the original cluster labels to new cluster labels\n",
    "mappings = {}\n",
    "mappings_unavailable = []\n",
    "for i in range(1, natural_clusters + 1):\n",
    "    maxcnt = -1\n",
    "    maxj = 0\n",
    "    for j in range(1, natural_clusters + 1):\n",
    "        if j in mappings_unavailable:\n",
    "            continue\n",
    "        # Count the number of points matching if i maps to j\n",
    "        cnt = 0\n",
    "        for k in range(n):\n",
    "            if cluster_numbers[k] == i and cluster_numbers_predicted[k] == j:\n",
    "                cnt = cnt + 1\n",
    "        if maxcnt < cnt:\n",
    "            maxcnt = cnt\n",
    "            maxj = j\n",
    "    mappings[i] = maxj\n",
    "    mappings_unavailable.append(maxj)\n",
    "\n",
    "for mapping in mappings.keys():\n",
    "    cluster_numbers[cluster_numbers == mapping] = mappings[mapping]"
   ]
  },
  {
   "cell_type": "code",
   "execution_count": 82,
   "metadata": {
    "collapsed": false
   },
   "outputs": [
    {
     "name": "stdout",
     "output_type": "stream",
     "text": [
      "Accuracy:  0.6428571428571429\n"
     ]
    }
   ],
   "source": [
    "# Finally compute accuracy\n",
    "cnt = 0.0\n",
    "for i in range(n):\n",
    "    if cluster_numbers[i] == cluster_numbers_predicted[i]:\n",
    "        cnt = cnt + 1.0\n",
    "print(\"Accuracy: \", cnt/n)"
   ]
  }
 ],
 "metadata": {
  "anaconda-cloud": {},
  "kernelspec": {
   "display_name": "Python [Root]",
   "language": "python",
   "name": "Python [Root]"
  },
  "language_info": {
   "codemirror_mode": {
    "name": "ipython",
    "version": 3
   },
   "file_extension": ".py",
   "mimetype": "text/x-python",
   "name": "python",
   "nbconvert_exporter": "python",
   "pygments_lexer": "ipython3",
   "version": "3.5.2"
  }
 },
 "nbformat": 4,
 "nbformat_minor": 0
}
