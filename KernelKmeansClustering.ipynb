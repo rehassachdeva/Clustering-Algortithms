{
 "cells": [
  {
   "cell_type": "code",
   "execution_count": 29,
   "metadata": {
    "collapsed": true
   },
   "outputs": [],
   "source": [
    "import pandas as pd\n",
    "import numpy as np\n",
    "\n",
    "# Disable warnings from being printed\n",
    "from warnings import filterwarnings\n",
    "filterwarnings('ignore')\n",
    "\n",
    "from scipy.spatial.distance import pdist, squareform\n",
    "from sys import maxsize"
   ]
  },
  {
   "cell_type": "code",
   "execution_count": 25,
   "metadata": {
    "collapsed": true
   },
   "outputs": [],
   "source": [
    "# For seeds dataset\n",
    "# Read the data\n",
    "data = pd.read_csv(\"seeds_dataset.txt\", sep=r\"\\s*\", header=None)\n",
    "\n",
    "# Given labels (natural clusters in data)\n",
    "cluster_numbers = data.loc[:, 7].copy()\n",
    "cluster_numbers_predicted = data.loc[:, 7].copy()\n",
    "natural_clusters = cluster_numbers.unique().shape[0]\n",
    "\n",
    "# Get attributes\n",
    "data = data.loc[:, 0:6]\n",
    "\n",
    "# Total number of points\n",
    "n = data.shape[0]"
   ]
  },
  {
   "cell_type": "code",
   "execution_count": 30,
   "metadata": {
    "collapsed": true
   },
   "outputs": [],
   "source": [
    "# For Data_User_Modeling_Dataset_Hamdi Tolga KAHRAMAN dataset\n",
    "# Read the data\n",
    "data = pd.read_csv(\"Data_User_Modeling_Dataset_Hamdi Tolga KAHRAMAN.csv\", sep=r\"\\s*\", header=None)\n",
    "\n",
    "# Given labels (natural clusters in data)\n",
    "cluster_numbers = data.loc[:, 5].copy()\n",
    "cluster_numbers[cluster_numbers == \"very_low\"] = 1\n",
    "cluster_numbers[cluster_numbers == \"High\"] = 2\n",
    "cluster_numbers[cluster_numbers == \"Low\"] = 3\n",
    "cluster_numbers[cluster_numbers == \"Middle\"] = 4\n",
    "cluster_numbers_predicted = cluster_numbers.copy()\n",
    "natural_clusters = cluster_numbers.unique().shape[0]\n",
    "\n",
    "# Get attributes\n",
    "data = data.loc[:, 0:4]\n",
    "\n",
    "# Total number of points\n",
    "n = data.shape[0]"
   ]
  },
  {
   "cell_type": "code",
   "execution_count": 31,
   "metadata": {
    "collapsed": false
   },
   "outputs": [],
   "source": [
    "# Compute Kernel Matrix\n",
    "gamma = 1e-3\n",
    "\n",
    "sq_dists = pdist(data, 'sqeuclidean')\n",
    "\n",
    "# Converting the pairwise distances into a symmetric NxN matrix.\n",
    "mat_sq_dists = squareform(sq_dists)\n",
    "\n",
    "# Computing the NxN RBF kernel matrix.\n",
    "K = np.exp(-gamma * mat_sq_dists)"
   ]
  },
  {
   "cell_type": "code",
   "execution_count": 32,
   "metadata": {
    "collapsed": true
   },
   "outputs": [],
   "source": [
    "# Randomly initialise k centroids as first k data points\n",
    "centroid_matrix = data.iloc[0:natural_clusters]\n",
    "cluster_points = []\n",
    "for i in range(natural_clusters):\n",
    "    cluster_points.append((i, ))"
   ]
  },
  {
   "cell_type": "code",
   "execution_count": 33,
   "metadata": {
    "collapsed": false
   },
   "outputs": [],
   "source": [
    "# While data points are re-assigned clusters, loop\n",
    "reassigned_flag = True\n",
    "iter = 0\n",
    "while reassigned_flag:\n",
    "    iter = iter + 1\n",
    "    if iter == 100:\n",
    "        break        \n",
    "    cluster_points_new = [()]*natural_clusters\n",
    "    # For each data point compute nearest cluster\n",
    "    for i in range(n):\n",
    "        minj = 0\n",
    "        mindist = maxsize\n",
    "        for j in range(natural_clusters):\n",
    "            cluster_cardinality = len(cluster_points[j])\n",
    "            dist = K[i][i]\n",
    "            sum = 0\n",
    "            for point in cluster_points[j]:\n",
    "                sum = sum + K[i][point]\n",
    "            dist = dist - (2*sum) / cluster_cardinality\n",
    "            sum = 0\n",
    "            for p1 in cluster_points[j]:\n",
    "                for p2 in cluster_points[j]:\n",
    "                    sum = sum + K[p1][p2]\n",
    "            dist = dist - (sum / (cluster_cardinality**2))\n",
    "            \n",
    "            if mindist > dist:\n",
    "                mindist = dist\n",
    "                minj = j\n",
    "                \n",
    "        if cluster_numbers_predicted[i] != minj:\n",
    "            reassigned_flag = True\n",
    "            cluster_numbers_predicted[i] = minj\n",
    "            \n",
    "        cluster_points_new[minj] = cluster_points_new[minj] + (i, )\n",
    "        \n",
    "    cluster_points = cluster_points_new.copy()"
   ]
  },
  {
   "cell_type": "code",
   "execution_count": 34,
   "metadata": {
    "collapsed": true
   },
   "outputs": [],
   "source": [
    "# Map the original cluster labels to new cluster labels\n",
    "mappings = {}\n",
    "mappings_unavailable = []\n",
    "for i in range(1, natural_clusters + 1):\n",
    "    maxcnt = -1\n",
    "    maxj = 0\n",
    "    for j in range(0, natural_clusters):\n",
    "        if j in mappings_unavailable:\n",
    "            continue\n",
    "        # Count the number of points matching if i maps to j\n",
    "        cnt = 0\n",
    "        for k in range(n):\n",
    "            if cluster_numbers[k] == i and cluster_numbers_predicted[k] == j:\n",
    "                cnt = cnt + 1\n",
    "        if maxcnt < cnt:\n",
    "            maxcnt = cnt\n",
    "            maxj = j\n",
    "    mappings[i] = maxj\n",
    "    mappings_unavailable.append(maxj)\n",
    "\n",
    "for mapping in mappings.keys():\n",
    "    cluster_numbers[cluster_numbers == mapping] = mappings[mapping]"
   ]
  },
  {
   "cell_type": "code",
   "execution_count": 35,
   "metadata": {
    "collapsed": false
   },
   "outputs": [
    {
     "name": "stdout",
     "output_type": "stream",
     "text": [
      "Accuracy:  0.4418604651162791\n"
     ]
    }
   ],
   "source": [
    "# Finally compute accuracy\n",
    "cnt = 0.0\n",
    "for i in range(n):\n",
    "    if cluster_numbers[i] == cluster_numbers_predicted[i]:\n",
    "        cnt = cnt + 1.0\n",
    "print(\"Accuracy: \", cnt/n)"
   ]
  },
  {
   "cell_type": "code",
   "execution_count": null,
   "metadata": {
    "collapsed": true
   },
   "outputs": [],
   "source": []
  }
 ],
 "metadata": {
  "anaconda-cloud": {},
  "kernelspec": {
   "display_name": "Python [Root]",
   "language": "python",
   "name": "Python [Root]"
  },
  "language_info": {
   "codemirror_mode": {
    "name": "ipython",
    "version": 3
   },
   "file_extension": ".py",
   "mimetype": "text/x-python",
   "name": "python",
   "nbconvert_exporter": "python",
   "pygments_lexer": "ipython3",
   "version": "3.5.2"
  }
 },
 "nbformat": 4,
 "nbformat_minor": 0
}
