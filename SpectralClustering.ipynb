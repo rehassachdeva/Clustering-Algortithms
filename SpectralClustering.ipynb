{
 "cells": [
  {
   "cell_type": "code",
   "execution_count": 139,
   "metadata": {
    "collapsed": true
   },
   "outputs": [],
   "source": [
    "import pandas as pd\n",
    "import numpy as np\n",
    "\n",
    "# Disable warnings from being printed\n",
    "from warnings import filterwarnings\n",
    "filterwarnings('ignore')\n",
    "\n",
    "from scipy.linalg import eigh, eig\n",
    "from sklearn.cluster import KMeans"
   ]
  },
  {
   "cell_type": "code",
   "execution_count": 140,
   "metadata": {
    "collapsed": true
   },
   "outputs": [],
   "source": [
    "# For seeds dataset\n",
    "# Read the data\n",
    "data = pd.read_csv(\"seeds_dataset.txt\", sep=r\"\\s*\", header=None)\n",
    "\n",
    "# Given labels (natural clusters in data)\n",
    "cluster_numbers = data.loc[:, 7].copy()\n",
    "cluster_numbers_predicted = data.loc[:, 7].copy()\n",
    "natural_clusters = cluster_numbers.unique().shape[0]\n",
    "\n",
    "# Get attributes\n",
    "data = data.loc[:, 0:6]\n",
    "\n",
    "# Total number of points\n",
    "n = data.shape[0]"
   ]
  },
  {
   "cell_type": "code",
   "execution_count": 141,
   "metadata": {
    "collapsed": true
   },
   "outputs": [],
   "source": [
    "# For Data_User_Modeling_Dataset_Hamdi Tolga KAHRAMAN dataset\n",
    "# Read the data\n",
    "data = pd.read_csv(\"Data_User_Modeling_Dataset_Hamdi Tolga KAHRAMAN.csv\", sep=r\"\\s*\", header=None)\n",
    "\n",
    "# Given labels (natural clusters in data)\n",
    "cluster_numbers = data.loc[:, 5].copy()\n",
    "cluster_numbers[cluster_numbers == \"very_low\"] = 1\n",
    "cluster_numbers[cluster_numbers == \"High\"] = 2\n",
    "cluster_numbers[cluster_numbers == \"Low\"] = 3\n",
    "cluster_numbers[cluster_numbers == \"Middle\"] = 4\n",
    "cluster_numbers_predicted = cluster_numbers.copy()\n",
    "natural_clusters = cluster_numbers.unique().shape[0]\n",
    "\n",
    "# Get attributes\n",
    "data = data.loc[:, 0:4]\n",
    "\n",
    "# Total number of points\n",
    "n = data.shape[0]"
   ]
  },
  {
   "cell_type": "code",
   "execution_count": 142,
   "metadata": {
    "collapsed": false
   },
   "outputs": [],
   "source": [
    "# Construct Affinity matrix\n",
    "\n",
    "# For Data_User_Modeling_Dataset_Hamdi Tolga KAHRAMAN dataset\n",
    "# sigma_sq = 1\n",
    "\n",
    "# For seeds dataset\n",
    "sigma_sq = 1e5\n",
    "\n",
    "affinity_matrix = squareform(pdist(data, 'sqeuclidean'))\n",
    "for i in range(n):\n",
    "    for j in range(n):\n",
    "        if i == j:\n",
    "            continue\n",
    "        affinity_matrix[i][j] = np.exp(-affinity_matrix[i][j] / (2 * sigma_sq))"
   ]
  },
  {
   "cell_type": "code",
   "execution_count": 143,
   "metadata": {
    "collapsed": false
   },
   "outputs": [],
   "source": [
    "# Construct diagonal matrix\n",
    "diagonal_matrix = np.zeros((n, n))\n",
    "for i in range(n):\n",
    "    diagonal_matrix[i][i] = np.sum(affinity_matrix[i])   "
   ]
  },
  {
   "cell_type": "code",
   "execution_count": 144,
   "metadata": {
    "collapsed": true
   },
   "outputs": [],
   "source": [
    "# Construct Laplacian matrix\n",
    "L = diagonal_matrix - affinity_matrix"
   ]
  },
  {
   "cell_type": "code",
   "execution_count": 145,
   "metadata": {
    "collapsed": true
   },
   "outputs": [],
   "source": [
    "# Find eigenvectors corresponding to k smallest eigenvalues,\n",
    "# of L and stack them columnwise\n",
    "eigvals, eigvecs = np.linalg.eigh(L)\n",
    "X = np.column_stack((eigvecs[i] for i in range(natural_clusters)))"
   ]
  },
  {
   "cell_type": "code",
   "execution_count": 146,
   "metadata": {
    "collapsed": false
   },
   "outputs": [],
   "source": [
    "clusters = KMeans(n_clusters=natural_clusters).fit(X)\n",
    "cluster_numbers_predicted = clusters.labels_                                                "
   ]
  },
  {
   "cell_type": "code",
   "execution_count": 147,
   "metadata": {
    "collapsed": true
   },
   "outputs": [],
   "source": [
    "# Map the original cluster labels to new cluster labels\n",
    "mappings = {}\n",
    "mappings_unavailable = []\n",
    "for i in range(1, natural_clusters + 1):\n",
    "    maxcnt = -1\n",
    "    maxj = 0\n",
    "    for j in range(0, natural_clusters):\n",
    "        if j in mappings_unavailable:\n",
    "            continue\n",
    "        # Count the number of points matching if i maps to j\n",
    "        cnt = 0\n",
    "        for k in range(n):\n",
    "            if cluster_numbers[k] == i and cluster_numbers_predicted[k] == j:\n",
    "                cnt = cnt + 1\n",
    "        if maxcnt < cnt:\n",
    "            maxcnt = cnt\n",
    "            maxj = j\n",
    "    mappings[i] = maxj\n",
    "    mappings_unavailable.append(maxj)\n",
    "\n",
    "for mapping in mappings.keys():\n",
    "    cluster_numbers[cluster_numbers == mapping] = mappings[mapping]"
   ]
  },
  {
   "cell_type": "code",
   "execution_count": 148,
   "metadata": {
    "collapsed": false
   },
   "outputs": [
    {
     "name": "stdout",
     "output_type": "stream",
     "text": [
      "Accuracy:  0.10077519379844961\n"
     ]
    }
   ],
   "source": [
    "# Finally compute accuracy\n",
    "cnt = 0.0\n",
    "for i in range(n):\n",
    "    if cluster_numbers[i] == cluster_numbers_predicted[i]:\n",
    "        cnt = cnt + 1.0\n",
    "print(\"Accuracy: \", cnt/n)"
   ]
  }
 ],
 "metadata": {
  "anaconda-cloud": {},
  "kernelspec": {
   "display_name": "Python [Root]",
   "language": "python",
   "name": "Python [Root]"
  },
  "language_info": {
   "codemirror_mode": {
    "name": "ipython",
    "version": 3
   },
   "file_extension": ".py",
   "mimetype": "text/x-python",
   "name": "python",
   "nbconvert_exporter": "python",
   "pygments_lexer": "ipython3",
   "version": "3.5.2"
  }
 },
 "nbformat": 4,
 "nbformat_minor": 0
}
